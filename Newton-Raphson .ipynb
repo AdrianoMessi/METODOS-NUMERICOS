{
 "cells": [
  {
   "cell_type": "code",
   "execution_count": 1,
   "id": "d0cb8973",
   "metadata": {},
   "outputs": [],
   "source": [
    "import matplotlib.pyplot as plt\n",
    "import sympy as sp"
   ]
  },
  {
   "cell_type": "markdown",
   "id": "579039f7",
   "metadata": {},
   "source": [
    "## Método de Newton-Raphson"
   ]
  },
  {
   "cell_type": "code",
   "execution_count": 2,
   "id": "f6f0f79a",
   "metadata": {},
   "outputs": [
    {
     "data": {
      "text/latex": [
       "$\\displaystyle x^{2} - \\sin{\\left(x \\right)} - 5$"
      ],
      "text/plain": [
       "x**2 - sin(x) - 5"
      ]
     },
     "execution_count": 2,
     "metadata": {},
     "output_type": "execute_result"
    }
   ],
   "source": [
    "# definimos función simbólica\n",
    "\n",
    "x = sp.symbols('x')\n",
    "f = x**2 -5 -sp.sin(x)\n",
    "f"
   ]
  },
  {
   "cell_type": "code",
   "execution_count": 5,
   "id": "b0c93310",
   "metadata": {},
   "outputs": [
    {
     "data": {
      "image/png": "[encoded data removed]",
      "text/plain": [
       "<Figure size 432x288 with 1 Axes>"
      ]
     },
     "metadata": {
      "needs_background": "light"
     },
     "output_type": "display_data"
    },
    {
     "data": {
      "text/plain": [
       "<sympy.plotting.plot.Plot at 0x219376d8c70>"
      ]
     },
     "execution_count": 5,
     "metadata": {},
     "output_type": "execute_result"
    }
   ],
   "source": [
    "sp.plot(f)"
   ]
  },
  {
   "cell_type": "code",
   "execution_count": 7,
   "id": "7d254170",
   "metadata": {},
   "outputs": [
    {
     "data": {
      "text/latex": [
       "$\\displaystyle 2 x - \\cos{\\left(x \\right)}$"
      ],
      "text/plain": [
       "2*x - cos(x)"
      ]
     },
     "execution_count": 7,
     "metadata": {},
     "output_type": "execute_result"
    }
   ],
   "source": [
    "# definiendo valor cercano r_n, tolerancia, e\n",
    "r_n = -4\n",
    "tol = 0.00000001\n",
    "e = sp.oo   # definimos al error como algo muy grande. Realmente basta con que sea mayor que la tolerancia\n",
    "k = 0     # este será el contador para ver en cuantas iteraciones se logra \n",
    "\n",
    "# calculando derivada\n",
    "fderiv = f.diff(x)\n",
    "fderiv"
   ]
  },
  {
   "cell_type": "code",
   "execution_count": 9,
   "id": "7c7a1ffe",
   "metadata": {},
   "outputs": [
    {
     "name": "stdout",
     "output_type": "stream",
     "text": [
      "la raiz es -2.02521163744482 con error de 0 con 5 iteraciones\n"
     ]
    }
   ],
   "source": [
    "# creamos algoritmo\n",
    "\n",
    "while e > tol:     # hacemos un ciclo mientras el error es mayor a la tolerancia\n",
    "    r0 = r_n     # definimos a r_n-1 como r0, ya que no permite guardar así a la variable. Este es el valor cerca escogido\n",
    "    r_n = r0 - f.subs(x, r0).evalf() / fderiv.subs(x, r0).evalf() # re-definimos a r_n con los criterios (evaluando a f, fderiv)\n",
    "    e = abs(r_n-r0)     # definimos el error\n",
    "    k += 1     # se incrementa el contador que lleva las iteraciones\n",
    "print(f'la raiz es {r_n} con error de {e} con {k} iteraciones')"
   ]
  }
 ],
 "metadata": {
  "kernelspec": {
   "display_name": "Python 3",
   "language": "python",
   "name": "python3"
  },
  "language_info": {
   "codemirror_mode": {
    "name": "ipython",
    "version": 3
   },
   "file_extension": ".py",
   "mimetype": "text/x-python",
   "name": "python",
   "nbconvert_exporter": "python",
   "pygments_lexer": "ipython3",
   "version": "3.8.8"
  }
 },
 "nbformat": 4,
 "nbformat_minor": 5
}
