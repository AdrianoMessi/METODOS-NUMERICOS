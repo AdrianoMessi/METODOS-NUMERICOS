{
 "cells": [
  {
   "cell_type": "markdown",
   "id": "1cb27339",
   "metadata": {},
   "source": [
    "# Fórmulas de derivación numérica"
   ]
  },
  {
   "cell_type": "markdown",
   "id": "85411608",
   "metadata": {},
   "source": [
    "### Derivadas de primer orden\n",
    "- $f'(x_0) \\approx \\frac{f(x_0+h)-f(x_0)}{h} \\hspace{1.5em} \\text{Hacia adelante}$ \n",
    "\n",
    "- $f'(x_0) \\approx \\frac{f(x_0) - f(x_0 - h)}{h} \\hspace{1.5em} \\text{Hacia atrás}$ \n",
    "\n",
    "- $f'(x_0) \\approx \\frac{f(x_0+h)-f(x_0 - h)}{2h} \\hspace{1.5em} \\text{centrada}$ "
   ]
  },
  {
   "cell_type": "markdown",
   "id": "5b769c1f",
   "metadata": {},
   "source": [
    "### Derivadas de segundo orden\n",
    "- $f''(x_0) \\approx \\frac{f(x_0)-2f(x_0-h)+f(x_0-2h)}{h^2} \\hspace{1.5em} \\text{Hacia atrás}$ \n",
    "\n",
    "- $f''(x_0) \\approx \\frac{f(x_0+h) - 2f(x_0) + f(x_0-h)}{h^2} \\hspace{1.5em} \\text{centrada}$ \n",
    "\n",
    "- $f''(x_0) \\approx \\frac{f(x_0+2h)-2f(x_0 + h) + f(x_0)}{h^2} \\hspace{1.5em} \\text{Hacia adelante}$ "
   ]
  },
  {
   "cell_type": "markdown",
   "id": "16f24f95",
   "metadata": {},
   "source": [
    "# Integración numérica"
   ]
  },
  {
   "cell_type": "code",
   "execution_count": 1,
   "id": "d9ace38c",
   "metadata": {},
   "outputs": [],
   "source": [
    "import numpy as np"
   ]
  },
  {
   "cell_type": "code",
   "execution_count": 3,
   "id": "f47b168e",
   "metadata": {},
   "outputs": [],
   "source": [
    "def f(x):\n",
    "    return 2700*np.sqrt(np.sin(x)+900)\n",
    "    "
   ]
  },
  {
   "cell_type": "code",
   "execution_count": 21,
   "id": "1a6c19a2",
   "metadata": {},
   "outputs": [],
   "source": [
    "def f(x):\n",
    "    return -1 / (2*np.pi*np.sqrt(-(x**2)+10**2))\n",
    "    "
   ]
  },
  {
   "cell_type": "markdown",
   "id": "86e67159",
   "metadata": {},
   "source": [
    "### Regla del trapecio"
   ]
  },
  {
   "cell_type": "markdown",
   "id": "3c0a513f",
   "metadata": {},
   "source": [
    "$\\int_{a}^{b}f(x) dx \\approx \\frac{h}{2}\\left(f(a) + 2\\displaystyle\\sum_{i=1} ^{k-1}f(a+ih) + f(b)\\right), \\hspace{1.25em} \\text{donde } h = \\frac{b-a}{k}$"
   ]
  },
  {
   "cell_type": "code",
   "execution_count": 22,
   "id": "c3e5f455",
   "metadata": {},
   "outputs": [],
   "source": [
    "def trapecio(a, b, k, funcion):\n",
    "    h = (b-a)/k\n",
    "    acumulador = 0\n",
    "    for i in range(k):\n",
    "        acumulador += f(a+i*h)\n",
    "    integral = h/2*(f(a)+2*acumulador+f(b))\n",
    "    return integral"
   ]
  },
  {
   "cell_type": "code",
   "execution_count": 23,
   "id": "150eda8d",
   "metadata": {},
   "outputs": [
    {
     "data": {
      "text/plain": [
       "-1.3144553304679678"
      ]
     },
     "execution_count": 23,
     "metadata": {},
     "output_type": "execute_result"
    }
   ],
   "source": [
    "trapecio(-9, 9, 1, lambda x: f(x))"
   ]
  },
  {
   "cell_type": "markdown",
   "id": "a80197e9",
   "metadata": {},
   "source": [
    "evaluar con diferentes valores de k"
   ]
  },
  {
   "cell_type": "code",
   "execution_count": 6,
   "id": "49bba192",
   "metadata": {},
   "outputs": [
    {
     "name": "stdout",
     "output_type": "stream",
     "text": [
      "95438.88528596485\n",
      "69992.14798806471\n",
      "64902.77440027775\n",
      "64266.602091374676\n",
      "63694.04689739576\n",
      "63636.79137195552\n"
     ]
    }
   ],
   "source": [
    "ks = [2, 10, 50, 100, 1000, 10000]\n",
    "for i in ks:\n",
    "    print(trapecio(0, np.pi / 4, i, lambda x: f(x)))"
   ]
  },
  {
   "cell_type": "markdown",
   "id": "39f85b0d",
   "metadata": {},
   "source": [
    "### Regla de simpson 1/3"
   ]
  },
  {
   "cell_type": "markdown",
   "id": "8ffc1d3f",
   "metadata": {},
   "source": [
    "$\\int_{a}^{b}f(x) dx \\approx \\frac{h}{3}\\left(f(a) + 4\\displaystyle\\sum_{i=1, impar} ^{2k-1}f(a+ih) + 2\\displaystyle\\sum_{i=2, par} ^{2k-2}f(a+ih)  +  f(b)\\right), \\hspace{1.25em} \\text{donde } h = \\frac{b-a}{2k}$"
   ]
  },
  {
   "cell_type": "code",
   "execution_count": 13,
   "id": "cdbc058f",
   "metadata": {},
   "outputs": [],
   "source": [
    "def simpson13(a, b, k, funcion):\n",
    "    h = (b-a)/(2*k)\n",
    "    acumulador1 = 0\n",
    "    acumulador2 = 0\n",
    "    for i in range(2, 2*k-1):\n",
    "        if i%2 == 0:\n",
    "            acumulador1 += f(a+i*h)\n",
    "            \n",
    "    for i in range(1, 2*k):\n",
    "        if i%2 != 0:\n",
    "            acumulador2 += f(a+i*h)\n",
    "            \n",
    "    integral = (h/3)*(f(a)+4*acumulador2 + 2*acumulador1 + f(b))\n",
    "    return integral"
   ]
  },
  {
   "cell_type": "code",
   "execution_count": 20,
   "id": "b18e0639",
   "metadata": {},
   "outputs": [
    {
     "data": {
      "text/plain": [
       "0.6463585651896301"
      ]
     },
     "execution_count": 20,
     "metadata": {},
     "output_type": "execute_result"
    }
   ],
   "source": [
    "simpson13(-9.99, 9.99,10,  lambda x: f(x))"
   ]
  },
  {
   "cell_type": "code",
   "execution_count": 9,
   "id": "4d660436",
   "metadata": {},
   "outputs": [
    {
     "name": "stdout",
     "output_type": "stream",
     "text": [
      "63630.42975659528\n",
      "63630.42964701358\n",
      "63630.42964683904\n",
      "63630.429646838784\n",
      "63630.42964683876\n",
      "63630.42964683866\n"
     ]
    }
   ],
   "source": [
    "ks = [2, 10, 50, 100, 1000, 10000]\n",
    "for i in ks:\n",
    "    print(simpson13(0, np.pi / 4, i, lambda x: f(x)))"
   ]
  },
  {
   "cell_type": "markdown",
   "id": "c763aa64",
   "metadata": {},
   "source": [
    "### Regla de simpson 3/8"
   ]
  },
  {
   "cell_type": "markdown",
   "id": "755c93e6",
   "metadata": {},
   "source": [
    "$\\int_{a}^{b}f(x) dx \\approx \\frac{3}{8}h\\left(f(a) + 3\\displaystyle\\sum_{i=1, i \\neq multiplo 3} ^{3k-1}f(a+ih) + 2\\displaystyle\\sum_{i=3, i = multiplo 3} ^{3k-3}f(a+ih)  +  f(b)\\right), \\hspace{1.25em} \\text{donde } h = \\frac{b-a}{3k}$"
   ]
  },
  {
   "cell_type": "code",
   "execution_count": 24,
   "id": "b594207d",
   "metadata": {},
   "outputs": [],
   "source": [
    "def simpson38(a, b, k, funcion):\n",
    "    h = (b-a)/(3*k)\n",
    "    acumulador1 = 0\n",
    "    acumulador2 = 0\n",
    "    for i in range(3, 3*k-2):\n",
    "        if i%3 == 0:\n",
    "            acumulador1 += f(a+i*h)\n",
    "            \n",
    "    for i in range(1, 3*k):\n",
    "        if i%3 != 0:\n",
    "            acumulador2 += f(a+i*h)\n",
    "            \n",
    "    integral = (h*(3/8))*(f(a)+3*acumulador2 + 2*acumulador1 + f(b))\n",
    "    return integral"
   ]
  },
  {
   "cell_type": "code",
   "execution_count": 11,
   "id": "5d5a84d7",
   "metadata": {},
   "outputs": [
    {
     "name": "stdout",
     "output_type": "stream",
     "text": [
      "328101.91555249627\n",
      "328101.76517210127\n",
      "328101.7649565372\n",
      "328101.7649562147\n",
      "328101.7649561935\n",
      "328101.7649561937\n"
     ]
    }
   ],
   "source": [
    "ks = [2, 10, 50, 100, 1000, 10000]\n",
    "for i in ks:\n",
    "    print(simpson38(-1.33, 2.72, i, lambda x: f(x)))"
   ]
  },
  {
   "cell_type": "code",
   "execution_count": 28,
   "id": "def7170f",
   "metadata": {},
   "outputs": [
    {
     "data": {
      "text/plain": [
       "-1.0602594653979698"
      ]
     },
     "execution_count": 28,
     "metadata": {},
     "output_type": "execute_result"
    }
   ],
   "source": [
    "simpson38(-9.999999999, 9.999999999, 10000, lambda x: f(x))"
   ]
  },
  {
   "cell_type": "code",
   "execution_count": 13,
   "id": "803cd06b",
   "metadata": {},
   "outputs": [
    {
     "data": {
      "text/plain": [
       "81039725.09964183"
      ]
     },
     "execution_count": 13,
     "metadata": {},
     "output_type": "execute_result"
    }
   ],
   "source": [
    "simpson13(-999, 1.49, 10000, lambda x: f(x))"
   ]
  }
 ],
 "metadata": {
  "kernelspec": {
   "display_name": "Python 3",
   "language": "python",
   "name": "python3"
  },
  "language_info": {
   "codemirror_mode": {
    "name": "ipython",
    "version": 3
   },
   "file_extension": ".py",
   "mimetype": "text/x-python",
   "name": "python",
   "nbconvert_exporter": "python",
   "pygments_lexer": "ipython3",
   "version": "3.8.8"
  }
 },
 "nbformat": 4,
 "nbformat_minor": 5
}
