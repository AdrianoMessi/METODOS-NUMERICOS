{
 "cells": [
  {
   "cell_type": "code",
   "execution_count": 1,
   "id": "c7fc180d",
   "metadata": {},
   "outputs": [],
   "source": [
    "import numpy as np\n",
    "import matplotlib.pyplot as plt"
   ]
  },
  {
   "cell_type": "markdown",
   "id": "c167c478",
   "metadata": {},
   "source": [
    "# Métodos fijos"
   ]
  },
  {
   "cell_type": "markdown",
   "id": "43c19237",
   "metadata": {},
   "source": [
    "## Método G-J pivoteo"
   ]
  },
  {
   "cell_type": "markdown",
   "id": "f37c6c55",
   "metadata": {},
   "source": [
    "Consiste en representar al sistema de ecuaciones en forma matricial con la matriz aumentada.\n",
    "Luego se transfroma a la matriz aumentada a una reducida a través de operaciones de renglones y se obtiene la solución al sistema.\n",
    "Supondremos sistemas de $nxn$."
   ]
  },
  {
   "cell_type": "markdown",
   "id": "e6301283",
   "metadata": {},
   "source": [
    "#### Supongamos que se tiene el siguiente sistema de equaciones:\n",
    "$$2x_1 + 3x_2 = -1$$\n",
    "$$-4x_1 +5x_2 = 0$$"
   ]
  },
  {
   "cell_type": "markdown",
   "id": "3431bff9",
   "metadata": {},
   "source": [
    "#### Así, la matriz aumentada del sistema es:\n",
    "$$\\left[\\begin{array}{cc|c}  \n",
    " 2 & 3 & -1\\\\  \n",
    " -4 & 5 & 0  \n",
    "\\end{array}\\right]$$"
   ]
  },
  {
   "cell_type": "markdown",
   "id": "cd9cb016",
   "metadata": {},
   "source": [
    "#### Haciendo operaciones con renglones se obtiene la matriz reducida:\n",
    "$$\\left[\\begin{array}{cc|c}  \n",
    " 1 & 0 & -0.2272\\\\  \n",
    " 0 & 1 & -0.1818  \n",
    "\\end{array}\\right]$$"
   ]
  },
  {
   "cell_type": "markdown",
   "id": "ccac6a3f",
   "metadata": {},
   "source": [
    "#### Por lo tanto,"
   ]
  },
  {
   "cell_type": "markdown",
   "id": "c59deac8",
   "metadata": {},
   "source": [
    " #### $x_1 = -0.2272\\\\$  $x_2 = -0.1818$"
   ]
  },
  {
   "cell_type": "code",
   "execution_count": 2,
   "id": "2b0b27fa",
   "metadata": {},
   "outputs": [],
   "source": [
    "A = np.array([[2, 3,-1], [-4, 5, 0]], float)"
   ]
  },
  {
   "cell_type": "code",
   "execution_count": 3,
   "id": "a20d31b7",
   "metadata": {},
   "outputs": [
    {
     "data": {
      "text/plain": [
       "-1.0"
      ]
     },
     "execution_count": 3,
     "metadata": {},
     "output_type": "execute_result"
    }
   ],
   "source": [
    "A[0][2]"
   ]
  },
  {
   "cell_type": "code",
   "execution_count": 4,
   "id": "2b0a7530",
   "metadata": {},
   "outputs": [
    {
     "data": {
      "text/plain": [
       "array([[3.],\n",
       "       [5.]])"
      ]
     },
     "execution_count": 4,
     "metadata": {},
     "output_type": "execute_result"
    }
   ],
   "source": [
    "A[:, 1:2]"
   ]
  },
  {
   "cell_type": "code",
   "execution_count": 5,
   "id": "be4e34d5",
   "metadata": {},
   "outputs": [],
   "source": [
    "# Modificando la primera fila\n",
    "A[0] = A[0,:] / A[0, 0]"
   ]
  },
  {
   "cell_type": "code",
   "execution_count": 6,
   "id": "1d93ed5d",
   "metadata": {},
   "outputs": [
    {
     "data": {
      "text/plain": [
       "array([[ 1. ,  1.5, -0.5],\n",
       "       [-4. ,  5. ,  0. ]])"
      ]
     },
     "execution_count": 6,
     "metadata": {},
     "output_type": "execute_result"
    }
   ],
   "source": [
    "A"
   ]
  },
  {
   "cell_type": "code",
   "execution_count": 7,
   "id": "b16cb76c",
   "metadata": {},
   "outputs": [],
   "source": [
    "# Haciendo ceros los de abajo \n",
    "A[1] = A[1] + 4*A[0]"
   ]
  },
  {
   "cell_type": "code",
   "execution_count": 8,
   "id": "c35fcde1",
   "metadata": {},
   "outputs": [
    {
     "data": {
      "text/plain": [
       "array([[ 1. ,  1.5, -0.5],\n",
       "       [ 0. , 11. , -2. ]])"
      ]
     },
     "execution_count": 8,
     "metadata": {},
     "output_type": "execute_result"
    }
   ],
   "source": [
    "A"
   ]
  },
  {
   "cell_type": "code",
   "execution_count": 9,
   "id": "9698b96b",
   "metadata": {},
   "outputs": [
    {
     "data": {
      "text/plain": [
       "array([[ 0. , 11. , -2. ],\n",
       "       [ 1. ,  1.5, -0.5]])"
      ]
     },
     "execution_count": 9,
     "metadata": {},
     "output_type": "execute_result"
    }
   ],
   "source": [
    "# Intercambiando renglones\n",
    "temp = A[0].copy()\n",
    "A[0] = A[1]\n",
    "A[1] = temp\n",
    "A"
   ]
  },
  {
   "cell_type": "code",
   "execution_count": 10,
   "id": "6df28e0a",
   "metadata": {},
   "outputs": [],
   "source": [
    "# si queremos crear la aumentada...\n",
    "B = np.array([2, 3])"
   ]
  },
  {
   "cell_type": "code",
   "execution_count": 11,
   "id": "1213c7f6",
   "metadata": {},
   "outputs": [
    {
     "data": {
      "text/plain": [
       "array([[2.],\n",
       "       [3.]])"
      ]
     },
     "execution_count": 11,
     "metadata": {},
     "output_type": "execute_result"
    }
   ],
   "source": [
    "# se define por filas\n",
    "b = np.array([[2], [3]], float)\n",
    "b"
   ]
  },
  {
   "cell_type": "code",
   "execution_count": 12,
   "id": "f5a78725",
   "metadata": {},
   "outputs": [
    {
     "data": {
      "text/plain": [
       "array([[ 0. , 11. , -2. ,  2. ],\n",
       "       [ 1. ,  1.5, -0.5,  3. ]])"
      ]
     },
     "execution_count": 12,
     "metadata": {},
     "output_type": "execute_result"
    }
   ],
   "source": [
    "aumentada = np.concatenate([A, b], axis=1)  # que tengan los mismos renglones para que concatene\n",
    "aumentada"
   ]
  },
  {
   "cell_type": "markdown",
   "id": "75d2ae57",
   "metadata": {},
   "source": [
    "#### Ejemplo:"
   ]
  },
  {
   "cell_type": "markdown",
   "id": "0aedfc85",
   "metadata": {},
   "source": [
    "- $2x_1 + 3x_2 + 5x_3 - 4x_4 = 7$\n",
    "- $-3x_1 + 2x_2 - 7x_3 + 0 = -9$\n",
    "- $9x_1 + -4x_2 + 6x_3 - x_4 = 6$\n",
    "- $-8x_1 + x_2 - x_3 + 5x_4 = 8$"
   ]
  },
  {
   "cell_type": "code",
   "execution_count": 13,
   "id": "d33a0159",
   "metadata": {},
   "outputs": [
    {
     "data": {
      "text/plain": [
       "array([[1.58227848],\n",
       "       [3.56202532],\n",
       "       [1.62531646],\n",
       "       [3.7443038 ]])"
      ]
     },
     "execution_count": 13,
     "metadata": {},
     "output_type": "execute_result"
    }
   ],
   "source": [
    "A = np.array([[2, 3, 5, -4], [-3, 2, -7, 0], [9, -4, 6, -1], [-8, 1, -1, 5]], float)\n",
    "B = np.array([[7], [-9], [6],[8]])\n",
    "# C = np.array([7, -9, 6, 8])\n",
    "np.linalg.solve(A, B)"
   ]
  },
  {
   "cell_type": "code",
   "execution_count": 14,
   "id": "8fcb3830",
   "metadata": {},
   "outputs": [
    {
     "data": {
      "text/plain": [
       "array([[ 2.,  3.,  5., -4.,  7.],\n",
       "       [-3.,  2., -7.,  0., -9.],\n",
       "       [ 9., -4.,  6., -1.,  6.],\n",
       "       [-8.,  1., -1.,  5.,  8.]])"
      ]
     },
     "execution_count": 14,
     "metadata": {},
     "output_type": "execute_result"
    }
   ],
   "source": [
    "aumentada = np.concatenate([A, B], axis=1)\n",
    "aumentada"
   ]
  },
  {
   "cell_type": "code",
   "execution_count": 15,
   "id": "1cef57eb",
   "metadata": {},
   "outputs": [
    {
     "name": "stdout",
     "output_type": "stream",
     "text": [
      "[[1.         0.         0.         0.         1.58227848]\n",
      " [0.         1.         0.         0.         3.56202532]\n",
      " [0.         0.         1.         0.         1.62531646]\n",
      " [0.         0.         0.         1.         3.7443038 ]]\n",
      "[1.58227848 3.56202532 1.62531646 3.7443038 ]\n"
     ]
    }
   ],
   "source": [
    "[filas, columnas] = A.shape\n",
    "renglones = len(B)\n",
    "if filas == columnas and filas == renglones:\n",
    "\n",
    "    for j in range(columnas):\n",
    "        renglon = j    # primer pivote\n",
    "        for i in range(j, renglones):\n",
    "            if abs(aumentada[renglon, j]) < abs(aumentada[i, j]):    # encontrando mejor pivote\n",
    "                renglon += 1\n",
    "\n",
    "\n",
    "        temp = aumentada[j].copy()\n",
    "        aumentada[j] = aumentada[renglon]\n",
    "        aumentada[renglon] = temp \n",
    "\n",
    "        aumentada[j] = aumentada[j] / aumentada[j][j] # convertir en cero al pivote\n",
    "\n",
    "        for i in range(filas):\n",
    "            if i != j:\n",
    "                aumentada[i] = aumentada[i] - aumentada[i][j]*aumentada[j]\n",
    "else:\n",
    "    print('el sistema no es cuadrado')\n",
    "print(aumentada)\n",
    "x = aumentada[:, columnas]\n",
    "print(x)"
   ]
  },
  {
   "cell_type": "code",
   "execution_count": 16,
   "id": "ac3288b7",
   "metadata": {},
   "outputs": [
    {
     "data": {
      "text/plain": [
       "array([ 7., -9.,  6.,  8.])"
      ]
     },
     "execution_count": 16,
     "metadata": {},
     "output_type": "execute_result"
    }
   ],
   "source": [
    "np.matmul(A,x)"
   ]
  },
  {
   "cell_type": "code",
   "execution_count": 17,
   "id": "9d0b91b7",
   "metadata": {},
   "outputs": [
    {
     "data": {
      "text/plain": [
       "array([False, False, False, False])"
      ]
     },
     "execution_count": 17,
     "metadata": {},
     "output_type": "execute_result"
    }
   ],
   "source": [
    "np.matmul(A,x) == np.array([7, -9, 6, 8], float)"
   ]
  },
  {
   "cell_type": "markdown",
   "id": "5ff9a5ab",
   "metadata": {},
   "source": [
    "## Método de la matriz inversa"
   ]
  },
  {
   "cell_type": "markdown",
   "id": "bee5bcee",
   "metadata": {},
   "source": [
    "#### Supongamos que se tiene un sistema de $nxn$: $$AX = B $$\n",
    "Donde $A$ es la matriz de los coeficientes de las variables, $X$ las variables del sistema y $B$ las constantes del sistema  "
   ]
  },
  {
   "cell_type": "markdown",
   "id": "0f76fda8",
   "metadata": {},
   "source": [
    "Si $A$ tiene inversa (que su determinante sea $\\neq 0$), entonces el sistema $AX = B $ puede transformarse de la siguiente forma:\n",
    "\n",
    "$$AX=B$$\n",
    "\n",
    "$$A^{-1}AX = A^{-1}B$$\n",
    "luego,\n",
    "$$IX = A^{-1}B$$\n",
    "y así, \n",
    "$$X = A^{-1}B $$"
   ]
  },
  {
   "cell_type": "code",
   "execution_count": 2,
   "id": "e2b2963f",
   "metadata": {},
   "outputs": [],
   "source": [
    "def matinvsol(A, B):\n",
    "    [filas, columnas] = A.shape\n",
    "    renglones = len(B)\n",
    "    identidad = np.identity(renglones)\n",
    "    aumentada = np.concatenate([A, identidad], axis=1)\n",
    "    if np.linalg.det(A) != 0:\n",
    "        if filas == columnas and filas == renglones:\n",
    "\n",
    "            for j in range(columnas):\n",
    "                renglon = j    # primer pivote\n",
    "                for i in range(j, renglones):\n",
    "                    if abs(aumentada[renglon, j]) < abs(aumentada[i, j]):\n",
    "                        renglon += 1\n",
    "\n",
    "\n",
    "                temp = aumentada[j].copy()\n",
    "                aumentada[j] = aumentada[renglon]\n",
    "                aumentada[renglon] = temp \n",
    "\n",
    "                aumentada[j] = aumentada[j] / aumentada[j][j] # convertir en cero al pivote\n",
    "\n",
    "                for i in range(filas):\n",
    "                    if i != j:\n",
    "                        aumentada[i] = aumentada[i] - aumentada[i][j]*aumentada[j]\n",
    "        else:\n",
    "            print('el sistena no es cuadrado')\n",
    "        x = aumentada[:, columnas:]\n",
    "        print(x)\n",
    "\n",
    "    else: \n",
    "        print('el sistema no tiene inversa')\n",
    "    resultados = np.matmul(x, B)\n"
   ]
  },
  {
   "cell_type": "code",
   "execution_count": 18,
   "id": "50baf375",
   "metadata": {},
   "outputs": [],
   "source": [
    "A = np.array([[2, 3, 5, -4], [-3, 2, -7, 0], [9, -4, 6, -1], [-8, 1, -1, 5]], float)\n",
    "B = np.array([[7], [-9], [6],[8]])"
   ]
  },
  {
   "cell_type": "code",
   "execution_count": 19,
   "id": "061a4bff",
   "metadata": {},
   "outputs": [
    {
     "data": {
      "text/plain": [
       "array([[ 2.,  3.,  5., -4.,  1.,  0.,  0.,  0.],\n",
       "       [-3.,  2., -7.,  0.,  0.,  1.,  0.,  0.],\n",
       "       [ 9., -4.,  6., -1.,  0.,  0.,  1.,  0.],\n",
       "       [-8.,  1., -1.,  5.,  0.,  0.,  0.,  1.]])"
      ]
     },
     "execution_count": 19,
     "metadata": {},
     "output_type": "execute_result"
    }
   ],
   "source": [
    "[filas, columnas] = A.shape\n",
    "renglones = len(B)\n",
    "identidad = np.identity(renglones)\n",
    "aumentada = np.concatenate([A, identidad], axis=1)\n",
    "aumentada"
   ]
  },
  {
   "cell_type": "code",
   "execution_count": 20,
   "id": "20c57d74",
   "metadata": {},
   "outputs": [
    {
     "name": "stdout",
     "output_type": "stream",
     "text": [
      "[[ 0.18987342  0.48101266  0.44303797  0.24050633]\n",
      " [ 0.43544304  0.7164557   0.54936709  0.45822785]\n",
      " [ 0.04303797 -0.1443038  -0.03291139  0.0278481 ]\n",
      " [ 0.22531646  0.59746835  0.59240506  0.49873418]]\n"
     ]
    }
   ],
   "source": [
    "if np.linalg.det(A) != 0:\n",
    "    if filas == columnas and filas == renglones:\n",
    "\n",
    "        for j in range(columnas):\n",
    "            renglon = j    # primer pivote\n",
    "            for i in range(j, renglones):\n",
    "                if abs(aumentada[renglon, j]) < abs(aumentada[i, j]):\n",
    "                    renglon += 1\n",
    "\n",
    "\n",
    "            temp = aumentada[j].copy()\n",
    "            aumentada[j] = aumentada[renglon]\n",
    "            aumentada[renglon] = temp \n",
    "\n",
    "            aumentada[j] = aumentada[j] / aumentada[j][j] # convertir en cero al pivote\n",
    "\n",
    "            for i in range(filas):\n",
    "                if i != j:\n",
    "                    aumentada[i] = aumentada[i] - aumentada[i][j]*aumentada[j]\n",
    "    else:\n",
    "        print('el sistena no es cuadrado')\n",
    "    x = aumentada[:, columnas:]\n",
    "    print(x)\n",
    "    \n",
    "else: \n",
    "    print('el sistema no tiene inversa')"
   ]
  },
  {
   "cell_type": "code",
   "execution_count": 21,
   "id": "26edf653",
   "metadata": {},
   "outputs": [
    {
     "data": {
      "text/plain": [
       "array([[1.58227848],\n",
       "       [3.56202532],\n",
       "       [1.62531646],\n",
       "       [3.7443038 ]])"
      ]
     },
     "execution_count": 21,
     "metadata": {},
     "output_type": "execute_result"
    }
   ],
   "source": [
    "resultados = np.matmul(x, B)\n",
    "resultados"
   ]
  },
  {
   "cell_type": "markdown",
   "id": "08471ae7",
   "metadata": {},
   "source": [
    "## Método facorización LU"
   ]
  },
  {
   "cell_type": "code",
   "execution_count": 22,
   "id": "b2d42a9c",
   "metadata": {},
   "outputs": [
    {
     "data": {
      "text/plain": [
       "array([[ 2.,  3.,  5., -4.],\n",
       "       [-3.,  2., -7.,  0.],\n",
       "       [ 9., -4.,  6., -1.],\n",
       "       [-8.,  1., -1.,  5.]])"
      ]
     },
     "execution_count": 22,
     "metadata": {},
     "output_type": "execute_result"
    }
   ],
   "source": [
    "A = np.array([[2, 3, 5, -4], [-3, 2, -7, 0], [9, -4, 6, -1], [-8, 1, -1, 5]], float)\n",
    "B = np.array([[7], [-9], [6],[8]])\n",
    "[filas, columnas] = A.shape\n",
    "n = filas\n",
    "A"
   ]
  },
  {
   "cell_type": "code",
   "execution_count": 23,
   "id": "7d2c08aa",
   "metadata": {},
   "outputs": [],
   "source": [
    "if filas == columnas:\n",
    "    L = np.zeros([filas, columnas])\n",
    "    U = np.identity(filas)\n",
    "    for i in range(filas):\n",
    "         L[i, 0] = A[i, 0]\n",
    "    for j in range(filas):\n",
    "        U[0, j] = A[0, j] / L[0, 0]\n",
    "    for m in range(filas):\n",
    "        for i in range(m, filas):\n",
    "            suma = 0\n",
    "            for k in range(m):\n",
    "                suma += L[i, k]*U[k, m]\n",
    "            L[i, m] = A[i, m] - suma\n",
    "        for j in range(m+1, filas):\n",
    "            suma = 0\n",
    "            for k in range(m):\n",
    "                suma += L[m, k]*U[k, j]\n",
    "            U[m, j] = (A[m, j] - suma) / L[m, m]"
   ]
  },
  {
   "cell_type": "code",
   "execution_count": 24,
   "id": "4aff168f",
   "metadata": {},
   "outputs": [
    {
     "name": "stdout",
     "output_type": "stream",
     "text": [
      "[[ 1.          1.5         2.5        -2.        ]\n",
      " [ 0.          1.          0.07692308 -0.92307692]\n",
      " [ 0.          0.          1.         -0.05583756]\n",
      " [ 0.          0.          0.          1.        ]]\n"
     ]
    }
   ],
   "source": [
    "print(U)"
   ]
  },
  {
   "cell_type": "code",
   "execution_count": 25,
   "id": "d8420a96",
   "metadata": {},
   "outputs": [
    {
     "name": "stdout",
     "output_type": "stream",
     "text": [
      "[[  2.           0.           0.           0.        ]\n",
      " [ -3.           6.5          0.           0.        ]\n",
      " [  9.         -17.5        -15.15384615   0.        ]\n",
      " [ -8.          13.          18.           2.00507614]]\n"
     ]
    }
   ],
   "source": [
    "print(L)"
   ]
  },
  {
   "cell_type": "markdown",
   "id": "37016cb1",
   "metadata": {},
   "source": [
    "### $$Ly = b$$"
   ]
  },
  {
   "cell_type": "code",
   "execution_count": 26,
   "id": "ec48e512",
   "metadata": {},
   "outputs": [
    {
     "data": {
      "text/plain": [
       "array([3.5       , 0.23076923, 1.41624365, 3.7443038 ])"
      ]
     },
     "execution_count": 26,
     "metadata": {},
     "output_type": "execute_result"
    }
   ],
   "source": [
    "y = np.zeros(filas)\n",
    "y[0] = B[0] / L[0, 0]\n",
    "for i in range(1, filas):\n",
    "    suma = 0\n",
    "    for k in range(i):\n",
    "        suma += L[i, k]*y[k]\n",
    "    y[i] = (B[i] - suma) / L[i, i]\n",
    "y"
   ]
  },
  {
   "cell_type": "markdown",
   "id": "f82a94a9",
   "metadata": {},
   "source": [
    "### $$Ux = y$$"
   ]
  },
  {
   "cell_type": "code",
   "execution_count": 27,
   "id": "9a18b2d0",
   "metadata": {},
   "outputs": [
    {
     "data": {
      "text/plain": [
       "array([1.58227848, 3.56202532, 1.62531646, 3.7443038 ])"
      ]
     },
     "execution_count": 27,
     "metadata": {},
     "output_type": "execute_result"
    }
   ],
   "source": [
    "x = np.zeros(filas)\n",
    "x[filas-1] = y[filas-1]\n",
    "for i in range(filas-2, -1, -1):\n",
    "    suma = 0\n",
    "    for k in range(i+1, filas):\n",
    "        suma += U[i, k]*x[k]\n",
    "    x[i] = y[i] - suma\n",
    "    \n",
    "x"
   ]
  },
  {
   "cell_type": "markdown",
   "id": "9f4667a0",
   "metadata": {},
   "source": [
    "## Método de Cholesky"
   ]
  },
  {
   "cell_type": "code",
   "execution_count": 28,
   "id": "6c404fe4",
   "metadata": {},
   "outputs": [
    {
     "data": {
      "text/plain": [
       "array([[ 4., -1.,  0.],\n",
       "       [-1.,  4., -1.],\n",
       "       [ 0., -1.,  4.]])"
      ]
     },
     "execution_count": 28,
     "metadata": {},
     "output_type": "execute_result"
    }
   ],
   "source": [
    "A = np.array([[4, -1, 0], [-1, 4, -1], [0, -1, 4]], float)\n",
    "B = np.array([[2], [6],[2]], float)\n",
    "bb = np.array([2, 6, 2])\n",
    "C = A.T\n",
    "L = np.zeros((filas, columnas))\n",
    "[filas, columnas] = A.shape\n",
    "n = filas\n",
    "# np.linalg.solve(A, bb)\n",
    "Atranspose = np.transpose(A)\n",
    "A       # A tiene que ser simétrica"
   ]
  },
  {
   "cell_type": "markdown",
   "id": "6d932f66",
   "metadata": {},
   "source": [
    "#### Descomponer a $A$ tal que $LL^{T} = A$"
   ]
  },
  {
   "cell_type": "markdown",
   "id": "a909851d",
   "metadata": {},
   "source": [
    "$A$ es positiva definida $\\iff$ sus eigenvalores son $> 0$ y reales"
   ]
  },
  {
   "cell_type": "code",
   "execution_count": 29,
   "id": "8d57fe96",
   "metadata": {},
   "outputs": [],
   "source": [
    "# ver si es positiva definida\n",
    "eigenvalores = np.linalg.eigvals(A)\n",
    "contador = 0\n",
    "for eigens in eigenvalores:\n",
    "    if eigens > 0:\n",
    "        contador += 1\n",
    "if contador == len(eigenvalores) and type(eigenvalores[0]) != np.complex128: # ver si los eigenvalores son positivos y reales\n",
    "    posit_def = True\n",
    "else: \n",
    "    posit_def = False"
   ]
  },
  {
   "cell_type": "code",
   "execution_count": 30,
   "id": "d415a8ca",
   "metadata": {},
   "outputs": [
    {
     "name": "stdout",
     "output_type": "stream",
     "text": [
      "[[ 4. -1.  0.  0.]\n",
      " [-1.  4. -1.  0.]\n",
      " [ 0. -1.  4.  0.]\n",
      " [ 0.  0.  0.  0.]]\n"
     ]
    }
   ],
   "source": [
    "if np.array_equal(A, Atranspose) and posit_def == True:\n",
    "    for j in range(n):\n",
    "        for i in range(j, n):\n",
    "            if i==j:\n",
    "                L[i, j] = np.sqrt(A[i,j]-np.sum(L[i, :j]**2))\n",
    "            else:\n",
    "                L[i, j] = (A[i, j]-np.sum(L[i, :j]*L[j, :j])) / L[j, j]\n",
    "    \n",
    "    print(L@L.T)\n",
    "else:\n",
    "    print('A no es simétrica o definida positiva')\n"
   ]
  },
  {
   "cell_type": "markdown",
   "id": "995c0147",
   "metadata": {},
   "source": [
    "Resolver el sistema"
   ]
  },
  {
   "cell_type": "code",
   "execution_count": 31,
   "id": "5b7924b4",
   "metadata": {},
   "outputs": [
    {
     "name": "stdout",
     "output_type": "stream",
     "text": [
      "[[1.]\n",
      " [2.]\n",
      " [1.]]\n"
     ]
    }
   ],
   "source": [
    "LT = L.T\n",
    "y = np.zeros([filas, 1])\n",
    "y[0] = B[0]/L[0, 0]\n",
    "for i in range(columnas):\n",
    "    suma = 0\n",
    "    for k in range(i):\n",
    "        suma += L[i, k]*y[k]\n",
    "    y[i] = (B[i]-suma) / L[i, i]\n",
    "x = np.zeros((filas, 1))\n",
    "x[columnas-1] = y[columnas-1] / LT[columnas-1, columnas-1]\n",
    "for i in range(columnas-2, -1, -1):\n",
    "    suma = 0\n",
    "    for k in range(i+1, columnas):\n",
    "        suma += LT[i, k]*x[k]\n",
    "    x[i] = (y[i]-suma) / LT[i, i]\n",
    "print(x)"
   ]
  },
  {
   "cell_type": "markdown",
   "id": "1b1a61d5",
   "metadata": {},
   "source": [
    "# Métodos iterativos"
   ]
  },
  {
   "cell_type": "markdown",
   "id": "04739437",
   "metadata": {},
   "source": [
    "## Método de Jacobi (Norma del supremo)"
   ]
  },
  {
   "cell_type": "code",
   "execution_count": 32,
   "id": "b3fc0bda",
   "metadata": {},
   "outputs": [
    {
     "data": {
      "text/plain": [
       "array([[20.,  3.,  5., -4.],\n",
       "       [-3., 20., -7.,  0.],\n",
       "       [ 9., -4., 60., -1.],\n",
       "       [-8.,  1., -1., 50.]])"
      ]
     },
     "execution_count": 32,
     "metadata": {},
     "output_type": "execute_result"
    }
   ],
   "source": [
    "A = np.array([[20, 3, 5, -4], [-3, 20, -7, 0], [9, -4, 60, -1], [-8, 1, -1, 50]], float)\n",
    "B = np.array([[7], [-9], [6],[8]], float)\n",
    "bb = np.array([7, -9, 6, 8])\n",
    "[filas, columnas] = A.shape\n",
    "n = filas\n",
    "A  # A tiene que ser diagonal dominante"
   ]
  },
  {
   "cell_type": "code",
   "execution_count": 33,
   "id": "ff1e34a1",
   "metadata": {},
   "outputs": [],
   "source": [
    "# ver si es diagonal dominante\n",
    "count = 0\n",
    "for i in range(filas):\n",
    "    suma_sin_diagonal = sum(abs(A[i])) - A[i, i]\n",
    "    if A[i, i] >= suma_sin_diagonal:\n",
    "        count += 1\n",
    "if count == filas:\n",
    "    diag_domin = True\n",
    "else:\n",
    "    diag_domin = False"
   ]
  },
  {
   "cell_type": "code",
   "execution_count": 34,
   "id": "44daeb8c",
   "metadata": {},
   "outputs": [
    {
     "data": {
      "text/plain": [
       "array([ 0.45203216, -0.37835448,  0.01097341,  0.2401117 ])"
      ]
     },
     "execution_count": 34,
     "metadata": {},
     "output_type": "execute_result"
    }
   ],
   "source": [
    "np.linalg.solve(A, bb)"
   ]
  },
  {
   "cell_type": "code",
   "execution_count": 35,
   "id": "c8dabe60",
   "metadata": {},
   "outputs": [],
   "source": [
    "# definiendo la aproximación inicial, tolerancia y el error\n",
    "x0 = np.array([[0], [0], [0], [0]])\n",
    "x = np.zeros([columnas, 1])\n",
    "error = np.inf\n",
    "tol = 0.00000001\n",
    "n = filas"
   ]
  },
  {
   "cell_type": "code",
   "execution_count": 36,
   "id": "4b700e7a",
   "metadata": {},
   "outputs": [
    {
     "name": "stdout",
     "output_type": "stream",
     "text": [
      "[[ 0.45203216]\n",
      " [-0.37835448]\n",
      " [ 0.01097341]\n",
      " [ 0.2401117 ]]\n",
      "[3.41050449e-09]\n",
      "iteraciones totales: 15\n"
     ]
    }
   ],
   "source": [
    "cont = 0\n",
    "if diag_domin == True and filas == columnas:\n",
    "    while error > tol:\n",
    "        for i in range(n):\n",
    "            suma = 0\n",
    "            for l in range(n):\n",
    "                if l != i:\n",
    "                    suma += A[i, l] * x0[l]\n",
    "            x[i] = (B[i] - suma) / A[i, i]\n",
    "            \n",
    "            \n",
    "#         error = max(abs(x - x0))\n",
    "#         x0 = x.copy()\n",
    "            sumit = 0\n",
    "            for p in range(0, filas):\n",
    "                sumit += (x[p]-x0[p])**2\n",
    "            error = np.sqrt(sumit)\n",
    "            x0 = x.copy()\n",
    "        \n",
    "        cont += 1\n",
    "    print(x)\n",
    "    print(error)\n",
    "    print(f'iteraciones totales: {cont}')\n",
    "else:\n",
    "    print('A no es diagonal dominante o cuadrada')"
   ]
  },
  {
   "cell_type": "markdown",
   "id": "8c6d14b3",
   "metadata": {},
   "source": [
    "### Método de Jacobi en forma matricial"
   ]
  },
  {
   "cell_type": "code",
   "execution_count": 59,
   "id": "972517b4",
   "metadata": {},
   "outputs": [
    {
     "data": {
      "text/plain": [
       "array([[20.,  3.,  5., -4.],\n",
       "       [-3., 20., -7.,  0.],\n",
       "       [ 9., -4., 60., -1.],\n",
       "       [-8.,  1., -1., 50.]])"
      ]
     },
     "execution_count": 59,
     "metadata": {},
     "output_type": "execute_result"
    }
   ],
   "source": [
    "A = np.array([[20, 3, 5, -4], [-3, 20, -7, 0], [9, -4, 60, -1], [-8, 1, -1, 50]], float)\n",
    "B = np.array([[7], [-9], [6],[8]], float)\n",
    "bb = np.array([7, -9, 6, 8])\n",
    "[filas, columnas] = A.shape\n",
    "n = filas\n",
    "A  # A tiene que ser diagonal dominante"
   ]
  },
  {
   "cell_type": "code",
   "execution_count": 60,
   "id": "cd2587d9",
   "metadata": {},
   "outputs": [],
   "source": [
    "# ver si es diagonal dominante\n",
    "count = 0\n",
    "for i in range(filas):\n",
    "    suma_sin_diagonal = sum(abs(A[i])) - A[i, i]\n",
    "    if A[i, i] >= suma_sin_diagonal:\n",
    "        count += 1\n",
    "if count == filas:\n",
    "    diag_domin = True\n",
    "else:\n",
    "    diag_domin = False"
   ]
  },
  {
   "cell_type": "code",
   "execution_count": 61,
   "id": "eb2576af",
   "metadata": {},
   "outputs": [],
   "source": [
    "x0=np.zeros([n,1],float) #1ra solucién\n",
    "error=np.inf #error de aproximacién\n",
    "tol=0.00000001\n",
    "x=np.zeros([n,1], float)\n",
    "cont=0\n",
    "L = np.zeros([n,n], float)\n",
    "D = np.zeros([n,n], float)\n",
    "U = np.zeros([n,n], float)\n",
    "\n",
    "for i in range(n):\n",
    "    for j in range(n):\n",
    "        if i==j:\n",
    "            D[i, j] = A[i, j]\n",
    "        elif i>j:\n",
    "            D[i, j] = A[i, j]\n",
    "        elif i<j:\n",
    "            U[i, j] = A[i, j]\n",
    "M = -np.matmul(np.linalg.inv(D), L+U)\n",
    "N = np.matmul(np.linalg.inv(D), B)"
   ]
  },
  {
   "cell_type": "code",
   "execution_count": 62,
   "id": "81d8a9cf",
   "metadata": {},
   "outputs": [
    {
     "name": "stdout",
     "output_type": "stream",
     "text": [
      "[[ 0.45203216]\n",
      " [-0.37835448]\n",
      " [ 0.01097341]\n",
      " [ 0.2401117 ]]\n",
      "el error es [8.9431817e-09]\n",
      "iteraciones totales: 9\n"
     ]
    }
   ],
   "source": [
    "if diag_domin == True and filas == columnas:\n",
    "    cont = 0\n",
    "    while error>tol:\n",
    "        x = np.matmul(M, x0) + N\n",
    "        suma = 0\n",
    "        for j in range(n):\n",
    "            suma += (x[j]-x0[j])**2\n",
    "        error = np.sqrt(suma)\n",
    "        x0 = np.copy(x)\n",
    "        cont += 1\n",
    "    \n",
    "    print(x)\n",
    "    print(f'el error es {error}')\n",
    "    print(f'iteraciones totales: {cont}')\n",
    "else:\n",
    "    print('no es diagonal dominante o cuadrada')"
   ]
  },
  {
   "cell_type": "markdown",
   "id": "d8d069ab",
   "metadata": {},
   "source": [
    "## Método de Gauss-Seidel"
   ]
  },
  {
   "cell_type": "code",
   "execution_count": 41,
   "id": "2da45349",
   "metadata": {},
   "outputs": [
    {
     "data": {
      "text/plain": [
       "array([[20.,  3.,  5., -4.],\n",
       "       [-3., 20., -7.,  0.],\n",
       "       [ 9., -4., 60., -1.],\n",
       "       [-8.,  1., -1., 50.]])"
      ]
     },
     "execution_count": 41,
     "metadata": {},
     "output_type": "execute_result"
    }
   ],
   "source": [
    "A = np.array([[20, 3, 5, -4], [-3, 20, -7, 0], [9, -4, 60, -1], [-8, 1, -1, 50]], float)\n",
    "B = np.array([[7], [-9], [6],[8]], float)\n",
    "bb = np.array([7, -9, 6, 8])\n",
    "[filas, columnas] = A.shape\n",
    "A    # A tiene que ser diagonal dominante o positiva definida y simétrica"
   ]
  },
  {
   "cell_type": "code",
   "execution_count": 42,
   "id": "3e20bace",
   "metadata": {},
   "outputs": [],
   "source": [
    "# ver si es diagonal dominante \n",
    "count = 0\n",
    "for i in range(filas):\n",
    "    suma_sin_diagonal = sum(abs(A[i])) - A[i, i]\n",
    "    if A[i, i] >= suma_sin_diagonal:\n",
    "        count += 1\n",
    "if count == filas:\n",
    "    diag_domin = True\n",
    "else:\n",
    "    diag_domin = False\n",
    "    \n",
    "# ver si es positiva definida\n",
    "eigenvalores = np.linalg.eigvals(A)\n",
    "contador = 0\n",
    "for eigens in eigenvalores:\n",
    "    if eigens > 0:\n",
    "        contador += 1\n",
    "if contador == len(eigenvalores) and type(eigenvalores[0]) != np.complex128: # ver si los eigenvalores son positivos y reales\n",
    "    posit_def = True\n",
    "else: \n",
    "    posit_def = False\n"
   ]
  },
  {
   "cell_type": "code",
   "execution_count": 43,
   "id": "0ccfbcb0",
   "metadata": {},
   "outputs": [],
   "source": [
    "# definiendo la aproximación inicial, tolerancia y error\n",
    "x0 = np.array([[0], [0], [0], [0]])\n",
    "x = np.zeros([columnas, 1])\n",
    "error = np.inf\n",
    "tol = 0.000001\n",
    "n = filas"
   ]
  },
  {
   "cell_type": "code",
   "execution_count": 44,
   "id": "ba55e80d",
   "metadata": {},
   "outputs": [
    {
     "name": "stdout",
     "output_type": "stream",
     "text": [
      "[[ 0.45203208]\n",
      " [-0.37835446]\n",
      " [ 0.01097342]\n",
      " [ 0.24011169]]\n",
      "[6.12858566e-07]\n",
      "iteraciones totales: 7\n"
     ]
    }
   ],
   "source": [
    "cont = 0\n",
    "if filas == columnas and (diag_domin == True or (posit_def == True and np.array_equal(A, A.T) == True)):\n",
    "    while error > tol:\n",
    "        for i in range(n):\n",
    "            suma1 = 0\n",
    "            for l in range(i):\n",
    "                suma1 += A[i, l]*x[l]\n",
    "            suma2 = 0\n",
    "            for l in range(i+1, n):\n",
    "                suma2 += A[i, l]*x0[l]\n",
    "            x[i] = (B[i]-suma1-suma2) / A[i, i]\n",
    "        error = max(abs(x-x0))\n",
    "        x0 = np.copy(x)\n",
    "        cont += 1\n",
    "    print(x)\n",
    "    print(error)\n",
    "    print(f'iteraciones totales: {cont}')\n",
    "else:\n",
    "    print('A no es positiva definida o diagonal dominante')"
   ]
  },
  {
   "cell_type": "markdown",
   "id": "d204ae93",
   "metadata": {},
   "source": [
    "#### graficar la convergencia"
   ]
  },
  {
   "cell_type": "code",
   "execution_count": 45,
   "id": "7ff640c2",
   "metadata": {},
   "outputs": [],
   "source": [
    "A = np.array([[4, 1], [2, 6]], float)\n",
    "B = np.array([[2], [4]])\n",
    "[filas, columnas] = A.shape"
   ]
  },
  {
   "cell_type": "code",
   "execution_count": 46,
   "id": "659b2786",
   "metadata": {},
   "outputs": [
    {
     "data": {
      "text/plain": [
       "array([[0.],\n",
       "       [0.]])"
      ]
     },
     "execution_count": 46,
     "metadata": {},
     "output_type": "execute_result"
    }
   ],
   "source": [
    "# definiendo la aproximación inicial, tolerancia y el error\n",
    "x0 = np.array([[0], [0]])\n",
    "x = np.zeros([filas, 1])\n",
    "error = np.inf\n",
    "tol = 0.00000000000000000000001\n",
    "n = filas\n",
    "x"
   ]
  },
  {
   "cell_type": "code",
   "execution_count": 47,
   "id": "7fad6a8b",
   "metadata": {},
   "outputs": [],
   "source": [
    "lista1 = []\n",
    "lista2 = []"
   ]
  },
  {
   "cell_type": "code",
   "execution_count": 48,
   "id": "b01dc2ca",
   "metadata": {},
   "outputs": [],
   "source": [
    "cont = 0\n",
    "while error > tol:\n",
    "    for i in range(n):\n",
    "        suma1 = 0\n",
    "        for l in range(i):\n",
    "            suma1 += A[i, l]*x[l]\n",
    "        suma2 = 0\n",
    "        for l in range(i+1, n):\n",
    "            suma2 += A[i, l]*x0[l]\n",
    "        x[i] = (B[i]-suma1-suma2) / A[i, i]\n",
    "        \n",
    "        if i == 0 or i%2 == 0:\n",
    "            lista1.append(x[i][0])\n",
    "        else:\n",
    "            lista2.append(x[i][0])\n",
    "    error = max(abs(x-x0))\n",
    "    x0 = np.copy(x)\n",
    "    cont += 1\n",
    "# print(x)\n",
    "# print(error)\n",
    "# print(f'iteraciones totales: {cont}')"
   ]
  },
  {
   "cell_type": "code",
   "execution_count": 49,
   "id": "e42dad7d",
   "metadata": {},
   "outputs": [
    {
     "data": {
      "image/png": "[encoded data removed]",
      "text/plain": [
       "<Figure size 432x288 with 1 Axes>"
      ]
     },
     "metadata": {
      "needs_background": "light"
     },
     "output_type": "display_data"
    }
   ],
   "source": [
    "plt.plot(lista1, lista2,  'o' )\n",
    "plt.grid()"
   ]
  },
  {
   "cell_type": "markdown",
   "id": "ab0dc196",
   "metadata": {},
   "source": [
    "### Gauss-Seidel en forma matricial"
   ]
  },
  {
   "cell_type": "code",
   "execution_count": 66,
   "id": "cfcd3102",
   "metadata": {},
   "outputs": [
    {
     "data": {
      "text/plain": [
       "array([[20.,  3.,  5., -4.],\n",
       "       [-3., 20., -7.,  0.],\n",
       "       [ 9., -4., 60., -1.],\n",
       "       [-8.,  1., -1., 50.]])"
      ]
     },
     "execution_count": 66,
     "metadata": {},
     "output_type": "execute_result"
    }
   ],
   "source": [
    "A = np.array([[20, 3, 5, -4], [-3, 20, -7, 0], [9, -4, 60, -1], [-8, 1, -1, 50]], float)\n",
    "B = np.array([[7], [-9], [6],[8]], float)\n",
    "bb = np.array([7, -9, 6, 8])\n",
    "[filas, columnas] = A.shape\n",
    "A    # A tiene que ser diagonal dominante o positiva definida"
   ]
  },
  {
   "cell_type": "code",
   "execution_count": 67,
   "id": "90fd7c07",
   "metadata": {},
   "outputs": [],
   "source": [
    "# ver si es diagonal dominante \n",
    "count = 0\n",
    "for i in range(filas):\n",
    "    suma_sin_diagonal = sum(abs(A[i])) - A[i, i]\n",
    "    if A[i, i] >= suma_sin_diagonal:\n",
    "        count += 1\n",
    "if count == filas:\n",
    "    diag_domin = True\n",
    "else:\n",
    "    diag_domin = False\n",
    "    \n",
    "# ver si es positiva definida\n",
    "eigenvalores = np.linalg.eigvals(A)\n",
    "contador = 0\n",
    "for eigens in eigenvalores:\n",
    "    if eigens > 0:\n",
    "        contador += 1\n",
    "if contador == len(eigenvalores) and type(eigenvalores[0]) != np.complex128: # ver si los eigenvalores son positivos y reales\n",
    "    posit_def = True\n",
    "else: \n",
    "    posit_def = False\n"
   ]
  },
  {
   "cell_type": "code",
   "execution_count": 68,
   "id": "20b7d265",
   "metadata": {},
   "outputs": [
    {
     "name": "stdout",
     "output_type": "stream",
     "text": [
      "[[ 0.45203208]\n",
      " [-0.37835446]\n",
      " [ 0.01097342]\n",
      " [ 0.24011169]]\n",
      "[6.6918195e-07]\n",
      "iteraciones totales: 9\n"
     ]
    }
   ],
   "source": [
    "# definiendo la aproximación inicial, tolerancia y error\n",
    "x0 = np.zeros([n, 1], float)\n",
    "x = np.zeros([n, 1], float)\n",
    "error = np.inf\n",
    "tol = 0.000001\n",
    "I = np.identity(n)\n",
    "L = np.zeros([n, n], float)\n",
    "D = np.zeros([n, n], float)\n",
    "U = np.zeros([n, n], float)\n",
    "for i in range(n):\n",
    "    for j in range(n):\n",
    "        if i==j:\n",
    "            D[i, j] = A[i, j]\n",
    "        elif i>j:\n",
    "            L[i, j] = A[i, j]\n",
    "        elif i<j:\n",
    "            U[i, j] = A[i, j]\n",
    "\n",
    "M = -np.matmul(np.linalg.inv(I + np.matmul(np.linalg.inv(D), L)), np.matmul(np.linalg.inv(D), U))\n",
    "N = np.matmul(np.linalg.inv(I + np.matmul(np.linalg.inv(D), L)), np.matmul(np.linalg.inv(D), B)) \n",
    "\n",
    "if filas == columnas and (diag_domin == True or (posit_def == True and np.array_equal(A, A.T) == True)):\n",
    "    while error > tol:\n",
    "        x = np.matmul(M, x0) + N\n",
    "        suma = 0\n",
    "        for j in range(n):\n",
    "            suma += (x[j]-x0[j])**2\n",
    "        error = np.sqrt(suma)\n",
    "        x0 = np.copy(x)\n",
    "    print(x)\n",
    "    print(error)\n",
    "    print(f'iteraciones totales: {cont}')\n",
    "else:\n",
    "    print('el sistema no es cuadrado o diagonal dominante o positivo definido y simétrico')"
   ]
  },
  {
   "cell_type": "code",
   "execution_count": null,
   "id": "eed3e3f1",
   "metadata": {},
   "outputs": [],
   "source": []
  }
 ],
 "metadata": {
  "kernelspec": {
   "display_name": "Python 3",
   "language": "python",
   "name": "python3"
  },
  "language_info": {
   "codemirror_mode": {
    "name": "ipython",
    "version": 3
   },
   "file_extension": ".py",
   "mimetype": "text/x-python",
   "name": "python",
   "nbconvert_exporter": "python",
   "pygments_lexer": "ipython3",
   "version": "3.8.8"
  }
 },
 "nbformat": 4,
 "nbformat_minor": 5
}
