{
 "cells": [
  {
   "cell_type": "markdown",
   "id": "938b525c",
   "metadata": {},
   "source": [
    "# Aproximación de integrales por series de Maclaurin"
   ]
  },
  {
   "cell_type": "markdown",
   "id": "bb3e22c5",
   "metadata": {},
   "source": [
    "#### Sea $f(x)$ una función en donde la n-ésima derivada esté definida en $x = 0$,  $\\forall$  n $\\in \\mathbb{N}$\n",
    "#### La serie de maclaurin asociada a $f(x)$ se define como: $$M_f(x) = \\displaystyle\\sum_{n=0} ^{\\infty} \\frac{f^{(n)}(0)}{n!}x^{n}$$\n",
    "##### Donde $f^{(n)}(0)$ es la n-ésima derivada de $f(x)$ evaluada en $0$\n",
    "###### la serie de Maclaurin es nada más y nada menos que la serie de taylor con $a = 0$"
   ]
  },
  {
   "cell_type": "markdown",
   "id": "3147646f",
   "metadata": {},
   "source": [
    "Así, $f(x) = \\displaystyle\\sum_{n=0} ^{\\infty} \\frac{f^{(n)}(0)}{n!}x^{n}$\n",
    "\n",
    "Ahora, si queremos el valor de $\\int_{a}^{b}f(x) \\,dx$, entonces podemos calcularla como:\n",
    "\n",
    "$\\int_{a}^{b}f(x) dx = \\int_{a}^{b} \\displaystyle\\sum_{n=0} ^{\\infty} \\frac{f^{(n)}(0)}{n!}x^{n} dx$\n",
    "\n",
    "Por propiedades de la integral, (la integral de una suma es la suma de las integrales), tenemos:\n",
    "\n",
    "$\\int_{a}^{b} \\displaystyle\\sum_{n=0} ^{\\infty} \\frac{f^{(n)}(0)}{n!}x^{n} dx = \\displaystyle\\sum_{n=0} ^{\\infty} \\int_{a}^{b}  \\frac{f^{(n)}(0)}{n!}x^{n} dx =  \\displaystyle\\sum_{n=0} ^{\\infty} \\frac{f^{(n)}(0)}{n!} \\int_{a}^{b}  x^{n} dx = \\displaystyle\\sum_{n=0} ^{\\infty} \\frac{f^{(n)}(0)}{n!} \\frac{x^{n+1}}{n+1} \\bigg|_{a}^{b}  = \\displaystyle\\sum_{n=0} ^{\\infty} \\frac{f^{(n)}(0)}{n!}  \\left(\\frac{b^{n+1}}{n+1}-\\frac{a^{n+1}}{n+1}\\right)$"
   ]
  },
  {
   "cell_type": "markdown",
   "id": "b2e0c000",
   "metadata": {},
   "source": [
    "Entonces, como podemos reescribir a la función original como una serie de Maclaurin, la integral se puede aproximar."
   ]
  },
  {
   "cell_type": "code",
   "execution_count": 1,
   "id": "e7c63680",
   "metadata": {},
   "outputs": [],
   "source": [
    "import numpy as np\n",
    "import sympy as sp"
   ]
  },
  {
   "cell_type": "markdown",
   "id": "8ef2eca0",
   "metadata": {},
   "source": [
    "#### Definimos la función a integrar"
   ]
  },
  {
   "cell_type": "code",
   "execution_count": 2,
   "id": "8c0d233a",
   "metadata": {},
   "outputs": [
    {
     "data": {
      "text/latex": [
       "$\\displaystyle e^{x^{2}}$"
      ],
      "text/plain": [
       "exp(x**2)"
      ]
     },
     "execution_count": 2,
     "metadata": {},
     "output_type": "execute_result"
    }
   ],
   "source": [
    "x = sp.symbols('x')\n",
    "f = sp.E**x**2\n",
    "f"
   ]
  },
  {
   "cell_type": "markdown",
   "id": "f8a81ce6",
   "metadata": {},
   "source": [
    "#### Escribimos el algoritmo en una función"
   ]
  },
  {
   "cell_type": "code",
   "execution_count": 3,
   "id": "0058f0f7",
   "metadata": {},
   "outputs": [],
   "source": [
    "def maclaurin(f, a, b, sumandos):\n",
    "    integral = 0\n",
    "    i = 0\n",
    "    while i < sumandos:\n",
    "        # Escribimos un condicional por si una derivada no está definida\n",
    "        if type(f.diff(x, i).subs(x, 0)) != sp.core.numbers.ComplexInfinity and type(f.diff(x, i).subs(x, 0)) != sp.core.numbers.ComplexInfinity: \n",
    "            integral += (f.diff(x, i).subs(x, 0).evalf()/np.math.factorial(i))*(((b**(i+1))-(a**(i+1))) / (i+1))\n",
    "        else:\n",
    "            return print('Alguna derivada evaluada en 0 no está definda')\n",
    "            break\n",
    "        i += 1\n",
    "    return integral"
   ]
  },
  {
   "cell_type": "markdown",
   "id": "9dd7a4af",
   "metadata": {},
   "source": [
    "#### Y calculamos la integral de 0 a 1 con 50 sumandos de la serie"
   ]
  },
  {
   "cell_type": "code",
   "execution_count": 4,
   "id": "be57371c",
   "metadata": {},
   "outputs": [
    {
     "data": {
      "text/latex": [
       "$\\displaystyle 1.46265174590718$"
      ],
      "text/plain": [
       "1.46265174590718"
      ]
     },
     "execution_count": 4,
     "metadata": {},
     "output_type": "execute_result"
    }
   ],
   "source": [
    "maclaurin(f, 0, 1, 50)"
   ]
  },
  {
   "cell_type": "markdown",
   "id": "bdae2ed0",
   "metadata": {},
   "source": [
    "### Así, $\\int_{0}^{1}e^{x^2} dx \\approx 1.46265174590718$"
   ]
  }
 ],
 "metadata": {
  "kernelspec": {
   "display_name": "Python 3",
   "language": "python",
   "name": "python3"
  },
  "language_info": {
   "codemirror_mode": {
    "name": "ipython",
    "version": 3
   },
   "file_extension": ".py",
   "mimetype": "text/x-python",
   "name": "python",
   "nbconvert_exporter": "python",
   "pygments_lexer": "ipython3",
   "version": "3.8.8"
  }
 },
 "nbformat": 4,
 "nbformat_minor": 5
}
